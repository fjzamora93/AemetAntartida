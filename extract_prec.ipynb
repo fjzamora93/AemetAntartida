{
 "cells": [
  {
   "cell_type": "code",
   "execution_count": 5,
   "metadata": {},
   "outputs": [],
   "source": [
    "\n",
    "\n",
    "\n",
    "import numpy as np\n",
    "import pandas as pd\n",
    "import seaborn as sns\n",
    "import matplotlib.pyplot as plt\n",
    "import os as os\n",
    "import math\n",
    "\n",
    "import sys\n",
    "sys.path.append(os.path.abspath('..'))\n",
    "\n",
    "import util.processing as preprocess"
   ]
  },
  {
   "cell_type": "code",
   "execution_count": 15,
   "metadata": {},
   "outputs": [
    {
     "ename": "AttributeError",
     "evalue": "module 'util.processing' has no attribute 'acum_prec'",
     "output_type": "error",
     "traceback": [
      "\u001b[0;31m---------------------------------------------------------------------------\u001b[0m",
      "\u001b[0;31mAttributeError\u001b[0m                            Traceback (most recent call last)",
      "Cell \u001b[0;32mIn[15], line 13\u001b[0m\n\u001b[1;32m     11\u001b[0m file_path \u001b[38;5;241m=\u001b[39m os\u001b[38;5;241m.\u001b[39mpath\u001b[38;5;241m.\u001b[39mjoin(input_path, file)\n\u001b[1;32m     12\u001b[0m df \u001b[38;5;241m=\u001b[39m pd\u001b[38;5;241m.\u001b[39mread_csv(file_path)\n\u001b[0;32m---> 13\u001b[0m df \u001b[38;5;241m=\u001b[39m \u001b[43mpreprocess\u001b[49m\u001b[38;5;241;43m.\u001b[39;49m\u001b[43macum_prec\u001b[49m(df \u001b[38;5;241m=\u001b[39m df, acumulation\u001b[38;5;241m=\u001b[39m \u001b[38;5;241m6\u001b[39m)\n\u001b[1;32m     14\u001b[0m \u001b[38;5;28mprint\u001b[39m(\u001b[38;5;124m'\u001b[39m\u001b[38;5;124mhola\u001b[39m\u001b[38;5;124m'\u001b[39m)\n\u001b[1;32m     15\u001b[0m \u001b[38;5;28mprint\u001b[39m(df\u001b[38;5;241m.\u001b[39mhead(\u001b[38;5;241m20\u001b[39m))\n",
      "\u001b[0;31mAttributeError\u001b[0m: module 'util.processing' has no attribute 'acum_prec'"
     ]
    }
   ],
   "source": [
    "\n",
    "# Directorio actual desde el cual se ejecuta el script\n",
    "input_path = os.getcwd()\n",
    "input_path = os.path.join(input_path, 'data')\n",
    "\n",
    "output_prec = os.path.join(input_path, 'precipitation_data')\n",
    "os.makedirs(output_prec, exist_ok=True)\n",
    "\n",
    "for file in os.listdir(input_path):\n",
    "    if not file.endswith('.csv'):\n",
    "        continue\n",
    "    file_path = os.path.join(input_path, file)\n",
    "    df = pd.read_csv(file_path)\n",
    "    df = preprocess.acum_prec(df = df, acumulation= 6)\n",
    "    print('hola')\n",
    "    print(df.head(20))\n",
    "        "
   ]
  },
  {
   "cell_type": "code",
   "execution_count": null,
   "metadata": {},
   "outputs": [],
   "source": [
    "# Directorio actual desde el cual se ejecuta el script\n",
    "station = \"escudero\"\n",
    "\n",
    "input_path = os.getcwd()\n",
    "input_path = os.path.join(input_path, 'data', f'{station}_clean.csv')\n",
    "\n",
    "output_prec = os.path.join('precipitation_data')\n",
    "\n",
    "\n",
    "df = pd.read_csv(input_path)\n",
    "df_prec['date'] = pd.to_datetime(df['date'])\n",
    "df_prec = df_prec[['date', 'prec']]\n",
    "df_prec = df_prec[df_prec['date'].dt.hour % 6 == 0]\n",
    "\n",
    "file = f'{station}_prec_corrected.csv'\n",
    "df_prec.to_csv(os.path.join(output_prec, file), index=False)"
   ]
  }
 ],
 "metadata": {
  "kernelspec": {
   "display_name": "venv",
   "language": "python",
   "name": "python3"
  },
  "language_info": {
   "codemirror_mode": {
    "name": "ipython",
    "version": 3
   },
   "file_extension": ".py",
   "mimetype": "text/x-python",
   "name": "python",
   "nbconvert_exporter": "python",
   "pygments_lexer": "ipython3",
   "version": "3.10.12"
  }
 },
 "nbformat": 4,
 "nbformat_minor": 2
}
