{
 "cells": [
  {
   "cell_type": "code",
   "execution_count": 7,
   "metadata": {},
   "outputs": [],
   "source": [
    "import numpy as np\n",
    "import pandas as pd\n",
    "import seaborn as sns\n",
    "import matplotlib.pyplot as plt\n",
    "import os as os\n",
    "import math"
   ]
  },
  {
   "cell_type": "code",
   "execution_count": 9,
   "metadata": {},
   "outputs": [],
   "source": [
    "\n",
    "# Directorio actual desde el cual se ejecuta el script\n",
    "input_path = os.getcwd()\n",
    "input_path = os.path.join(input_path, 'data')\n",
    "\n",
    "output_prec = os.path.join(input_path, 'precipitation_data')\n",
    "os.makedirs(output_prec, exist_ok=True)\n",
    "\n",
    "for file in os.listdir(input_path):\n",
    "    if file.endswith('clean.csv'):\n",
    "        file_path = os.path.join(input_path, file)\n",
    "        df = pd.read_csv(file_path)\n",
    "        df_prec['date'] = pd.to_datetime(df['date'])\n",
    "        df_prec = df_prec[['date', 'prec']]\n",
    "        df_prec = df_prec[df_prec['date'].dt.hour % 6 == 0]\n",
    "\n",
    "        file = file.replace('clean', 'prec')\n",
    "        df_prec.to_csv(os.path.join(output_prec, file), index=False)"
   ]
  },
  {
   "cell_type": "code",
   "execution_count": 20,
   "metadata": {},
   "outputs": [],
   "source": [
    "# Directorio actual desde el cual se ejecuta el script\n",
    "station = \"prat\"\n",
    "\n",
    "current_dir = os.getcwd()\n",
    "input_path = os.path.join(current_dir, 'data', f'{station}_clean.csv')\n",
    "\n",
    "\n",
    "\n",
    "df = pd.read_csv(input_path)\n",
    "# df_prec['date'] = pd.to_datetime(df['date'])\n",
    "# df_prec = df_prec[['date', 'prec']]\n",
    "df_prec = df.copy()\n",
    "df_prec.drop(columns=['temp', 'dir', 'vel', 'hr', 'pres'], inplace=True)\n",
    "df_prec['date'] = pd.to_datetime(df_prec['date'])\n",
    "df_prec = df_prec[df_prec['date'].dt.hour % 6 == 0]\n",
    "\n",
    "file = f'{station}_prec.csv'\n",
    "df_prec.to_csv(os.path.join(current_dir, 'data', 'precipitation_data', file), index=False)"
   ]
  }
 ],
 "metadata": {
  "kernelspec": {
   "display_name": "venv",
   "language": "python",
   "name": "python3"
  },
  "language_info": {
   "codemirror_mode": {
    "name": "ipython",
    "version": 3
   },
   "file_extension": ".py",
   "mimetype": "text/x-python",
   "name": "python",
   "nbconvert_exporter": "python",
   "pygments_lexer": "ipython3",
   "version": "3.10.12"
  }
 },
 "nbformat": 4,
 "nbformat_minor": 2
}
