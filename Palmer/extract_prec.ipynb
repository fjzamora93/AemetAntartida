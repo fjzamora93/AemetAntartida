{
 "cells": [
  {
   "cell_type": "code",
   "execution_count": 7,
   "metadata": {},
   "outputs": [],
   "source": [
    "import numpy as np\n",
    "import pandas as pd\n",
    "import seaborn as sns\n",
    "import matplotlib.pyplot as plt\n",
    "import os as os\n",
    "import math"
   ]
  },
  {
   "cell_type": "code",
   "execution_count": 1,
   "metadata": {},
   "outputs": [
    {
     "ename": "NameError",
     "evalue": "name 'os' is not defined",
     "output_type": "error",
     "traceback": [
      "\u001b[0;31m---------------------------------------------------------------------------\u001b[0m",
      "\u001b[0;31mNameError\u001b[0m                                 Traceback (most recent call last)",
      "Cell \u001b[0;32mIn[1], line 2\u001b[0m\n\u001b[1;32m      1\u001b[0m \u001b[38;5;66;03m# Directorio actual desde el cual se ejecuta el script\u001b[39;00m\n\u001b[0;32m----> 2\u001b[0m input_path \u001b[38;5;241m=\u001b[39m \u001b[43mos\u001b[49m\u001b[38;5;241m.\u001b[39mgetcwd()\n\u001b[1;32m      3\u001b[0m input_path \u001b[38;5;241m=\u001b[39m os\u001b[38;5;241m.\u001b[39mpath\u001b[38;5;241m.\u001b[39mjoin(input_path, \u001b[38;5;124m'\u001b[39m\u001b[38;5;124mdata\u001b[39m\u001b[38;5;124m'\u001b[39m)\n\u001b[1;32m      5\u001b[0m output_prec \u001b[38;5;241m=\u001b[39m os\u001b[38;5;241m.\u001b[39mpath\u001b[38;5;241m.\u001b[39mjoin(input_path, \u001b[38;5;124m'\u001b[39m\u001b[38;5;124mprecipitation_data\u001b[39m\u001b[38;5;124m'\u001b[39m)\n",
      "\u001b[0;31mNameError\u001b[0m: name 'os' is not defined"
     ]
    }
   ],
   "source": [
    "\n",
    "# Directorio actual desde el cual se ejecuta el script\n",
    "input_path = os.getcwd()\n",
    "input_path = os.path.join(input_path, 'data')\n",
    "\n",
    "output_prec = os.path.join(input_path, 'precipitation_data')\n",
    "os.makedirs(output_prec, exist_ok=True)\n",
    "\n",
    "for file in os.listdir(input_path):\n",
    "    if file.endswith('clean.csv'):\n",
    "        file_path = os.path.join(input_path, file)\n",
    "        df = pd.read_csv(file_path)\n",
    "        df_prec['date'] = pd.to_datetime(df['date'])\n",
    "        df_prec = df_prec[['date', 'prec']]\n",
    "        df_prec = df_prec[df_prec['date'].dt.hour % 6 == 0]\n",
    "\n",
    "        file = file.replace('clean', 'prec')\n",
    "        file = file.replace('flagged', 'prec')\n",
    "        df_prec.to_csv(os.path.join(output_prec, file), index=False)"
   ]
  },
  {
   "cell_type": "code",
   "execution_count": null,
   "metadata": {},
   "outputs": [],
   "source": [
    "# Directorio actual desde el cual se ejecuta el script\n",
    "station = \"palmer\"\n",
    "\n",
    "input_path = os.getcwd()\n",
    "input_path = os.path.join(input_path, 'data', f'{station}_clean.csv')\n",
    "\n",
    "output_prec = os.path.join('precipitation_data')\n",
    "\n",
    "\n",
    "df = pd.read_csv(input_path)\n",
    "df_prec['date'] = pd.to_datetime(df['date'])\n",
    "df_prec = df_prec[['date', 'prec']]\n",
    "df_prec = df_prec[df_prec['date'].dt.hour % 6 == 0]\n",
    "\n",
    "file = f'{station}_prec_corrected.csv'\n",
    "df_prec.to_csv(os.path.join(output_prec, file), index=False)"
   ]
  }
 ],
 "metadata": {
  "kernelspec": {
   "display_name": "venv",
   "language": "python",
   "name": "python3"
  },
  "language_info": {
   "codemirror_mode": {
    "name": "ipython",
    "version": 3
   },
   "file_extension": ".py",
   "mimetype": "text/x-python",
   "name": "python",
   "nbconvert_exporter": "python",
   "pygments_lexer": "ipython3",
   "version": "3.10.12"
  }
 },
 "nbformat": 4,
 "nbformat_minor": 2
}
