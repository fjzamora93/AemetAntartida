{
 "cells": [
  {
   "cell_type": "code",
   "execution_count": 1,
   "metadata": {},
   "outputs": [
    {
     "data": {
      "text/html": [
       "<div>\n",
       "<style scoped>\n",
       "    .dataframe tbody tr th:only-of-type {\n",
       "        vertical-align: middle;\n",
       "    }\n",
       "\n",
       "    .dataframe tbody tr th {\n",
       "        vertical-align: top;\n",
       "    }\n",
       "\n",
       "    .dataframe thead th {\n",
       "        text-align: right;\n",
       "    }\n",
       "</style>\n",
       "<table border=\"1\" class=\"dataframe\">\n",
       "  <thead>\n",
       "    <tr style=\"text-align: right;\">\n",
       "      <th></th>\n",
       "      <th>Obtime  WIND_SPEED WIND_DIRECTION PRESENT_WEATHER PAST_WEATHER MSL_PRESSURE DRYBULB_TEMPERATURE RELATIVE_HUMIDITY DEWPOINT NEW_TEMPERATURE</th>\n",
       "    </tr>\n",
       "  </thead>\n",
       "  <tbody>\n",
       "    <tr>\n",
       "      <th>0</th>\n",
       "      <td>1995 12 31 21 00 4 170 3 22 994.5 2.5 96.415 2...</td>\n",
       "    </tr>\n",
       "    <tr>\n",
       "      <th>1</th>\n",
       "      <td>1995 12 31 18 00 10 150 3 42 996.9 3.1 96.403 ...</td>\n",
       "    </tr>\n",
       "    <tr>\n",
       "      <th>2</th>\n",
       "      <td>1995 12 31 15 00 5 100 40 42 998 1.6 96.931 1....</td>\n",
       "    </tr>\n",
       "    <tr>\n",
       "      <th>3</th>\n",
       "      <td>1995 12 31 12 00 2 190 46 22 998.3 1.6 96.931 ...</td>\n",
       "    </tr>\n",
       "    <tr>\n",
       "      <th>4</th>\n",
       "      <td>1995 12 31 09 00 0 0 10 0 999.3 .5 96.957 .5 -...</td>\n",
       "    </tr>\n",
       "  </tbody>\n",
       "</table>\n",
       "</div>"
      ],
      "text/plain": [
       "  Obtime  WIND_SPEED WIND_DIRECTION PRESENT_WEATHER PAST_WEATHER MSL_PRESSURE DRYBULB_TEMPERATURE RELATIVE_HUMIDITY DEWPOINT NEW_TEMPERATURE\n",
       "0  1995 12 31 21 00 4 170 3 22 994.5 2.5 96.415 2...                                                                                        \n",
       "1  1995 12 31 18 00 10 150 3 42 996.9 3.1 96.403 ...                                                                                        \n",
       "2  1995 12 31 15 00 5 100 40 42 998 1.6 96.931 1....                                                                                        \n",
       "3  1995 12 31 12 00 2 190 46 22 998.3 1.6 96.931 ...                                                                                        \n",
       "4  1995 12 31 09 00 0 0 10 0 999.3 .5 96.957 .5 -...                                                                                        "
      ]
     },
     "execution_count": 1,
     "metadata": {},
     "output_type": "execute_result"
    }
   ],
   "source": [
    "import pandas as pd\n",
    "\n",
    "df = pd.read_csv('data.txt')\n",
    "\n",
    "df.head()"
   ]
  }
 ],
 "metadata": {
  "kernelspec": {
   "display_name": "Python 3",
   "language": "python",
   "name": "python3"
  },
  "language_info": {
   "codemirror_mode": {
    "name": "ipython",
    "version": 3
   },
   "file_extension": ".py",
   "mimetype": "text/x-python",
   "name": "python",
   "nbconvert_exporter": "python",
   "pygments_lexer": "ipython3",
   "version": "3.12.3"
  }
 },
 "nbformat": 4,
 "nbformat_minor": 2
}
