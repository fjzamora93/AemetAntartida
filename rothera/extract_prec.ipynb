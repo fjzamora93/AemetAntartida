{
 "cells": [
  {
   "cell_type": "code",
   "execution_count": 1,
   "metadata": {},
   "outputs": [],
   "source": [
    "\n",
    "\n",
    "\n",
    "import numpy as np\n",
    "import pandas as pd\n",
    "import seaborn as sns\n",
    "import matplotlib.pyplot as plt\n",
    "import os as os\n",
    "import math\n",
    "\n",
    "import sys\n",
    "sys.path.append(os.path.abspath('..'))\n",
    "\n",
    "import preprocess_antartica.processing as preprocess"
   ]
  },
  {
   "cell_type": "code",
   "execution_count": 4,
   "metadata": {},
   "outputs": [
    {
     "name": "stderr",
     "output_type": "stream",
     "text": [
      "/home/javier/Desktop/Lapab/AemetAntartida/preprocess_antartica/processing.py:18: FutureWarning: 'H' is deprecated and will be removed in a future version, please use 'h' instead.\n",
      "  df_resampled = df.resample(f'{acumulation}H').sum(min_count=1)\n",
      "/home/javier/Desktop/Lapab/AemetAntartida/preprocess_antartica/processing.py:18: FutureWarning: 'H' is deprecated and will be removed in a future version, please use 'h' instead.\n",
      "  df_resampled = df.resample(f'{acumulation}H').sum(min_count=1)\n"
     ]
    },
    {
     "name": "stdout",
     "output_type": "stream",
     "text": [
      "Serializando horas\n",
      "Se han creado 0 filas nuevas para completar la secuencia.\n",
      "Serializando horas\n",
      "Se han creado 0 filas nuevas para completar la secuencia.\n",
      "Serializando horas\n",
      "Se han creado 0 filas nuevas para completar la secuencia.\n"
     ]
    },
    {
     "name": "stderr",
     "output_type": "stream",
     "text": [
      "/home/javier/Desktop/Lapab/AemetAntartida/preprocess_antartica/processing.py:18: FutureWarning: 'H' is deprecated and will be removed in a future version, please use 'h' instead.\n",
      "  df_resampled = df.resample(f'{acumulation}H').sum(min_count=1)\n"
     ]
    }
   ],
   "source": [
    "\n",
    "# Directorio actual desde el cual se ejecuta el script\n",
    "input_path = os.getcwd()\n",
    "input_path = os.path.join(input_path, 'data')\n",
    "\n",
    "output_prec = os.path.join(input_path, 'precipitation_data')\n",
    "os.makedirs(output_prec, exist_ok=True)\n",
    "\n",
    "for file in os.listdir(input_path):\n",
    "    if not file.endswith('.csv'):\n",
    "        continue\n",
    "    file_path = os.path.join(input_path, file)\n",
    "    df = pd.read_csv(file_path)\n",
    "    df = preprocess.acum_prec(df = df, acumulation= 6)\n",
    "    df = preprocess.hours_sequential(df = df, frequency= '6h')\n",
    "    df.to_csv(os.path.join(output_prec, file.replace('flagged1995', 'prec')), index=False)\n",
    "        "
   ]
  }
 ],
 "metadata": {
  "kernelspec": {
   "display_name": "venv",
   "language": "python",
   "name": "python3"
  },
  "language_info": {
   "codemirror_mode": {
    "name": "ipython",
    "version": 3
   },
   "file_extension": ".py",
   "mimetype": "text/x-python",
   "name": "python",
   "nbconvert_exporter": "python",
   "pygments_lexer": "ipython3",
   "version": "3.10.12"
  }
 },
 "nbformat": 4,
 "nbformat_minor": 2
}
